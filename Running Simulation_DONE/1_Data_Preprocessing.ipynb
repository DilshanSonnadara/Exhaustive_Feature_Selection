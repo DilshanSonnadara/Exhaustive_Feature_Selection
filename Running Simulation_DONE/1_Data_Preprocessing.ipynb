{
 "cells": [
  {
   "cell_type": "markdown",
   "metadata": {},
   "source": [
    "Import the libraries"
   ]
  },
  {
   "cell_type": "code",
   "execution_count": 1,
   "metadata": {},
   "outputs": [],
   "source": [
    "import openml\n",
    "import os\n",
    "import zipfile\n",
    "# Load the data\n",
    "import pandas as pd\n",
    "from ucimlrepo import fetch_ucirepo\n",
    "import pickle \n",
    "from sklearn.model_selection import train_test_split"
   ]
  },
  {
   "cell_type": "markdown",
   "metadata": {},
   "source": [
    "# Simulating Datasets through MakeRegression"
   ]
  },
  {
   "cell_type": "code",
   "execution_count": 2,
   "metadata": {},
   "outputs": [
    {
     "name": "stdout",
     "output_type": "stream",
     "text": [
      "Saved to Data/Regression_Original_Simulated.pkl\n"
     ]
    }
   ],
   "source": [
    "import numpy as np\n",
    "import pandas as pd\n",
    "import os\n",
    "import pickle\n",
    "from sklearn.datasets import make_regression\n",
    "\n",
    "# Set random seed for reproducibility\n",
    "np.random.seed(42)\n",
    "\n",
    "# Initialize output dictionary\n",
    "dataset_dict = {}\n",
    "\n",
    "# Feature counts\n",
    "feature_counts = list(range(10, 501, 10))  # [10,20,30...150]\n",
    "\n",
    "# Generate datasets\n",
    "for n_features in feature_counts:\n",
    "    X, y = make_regression(\n",
    "        n_samples=500,\n",
    "        n_features=n_features,\n",
    "        noise=10.0,\n",
    "        random_state=42\n",
    "    )\n",
    "    \n",
    "    X_df = pd.DataFrame(X, columns=[f\"f{i+1}\" for i in range(n_features)])\n",
    "    y_df = pd.Series(y, name=\"target\")\n",
    "    \n",
    "    dataset_dict[f\"sim_{n_features}\"] = {\n",
    "        \"X\": X_df,\n",
    "        \"y\": y_df\n",
    "    }\n",
    "\n",
    "# Ensure the Data folder exists\n",
    "os.makedirs(\"Data\", exist_ok=True)\n",
    "\n",
    "# Save the dictionary as a pickle file\n",
    "with open(\"Data/Regression_Original_Simulated.pkl\", \"wb\") as f:\n",
    "    pickle.dump(dataset_dict, f)\n",
    "\n",
    "print(\"Saved to Data/Regression_Original_Simulated.pkl\")\n"
   ]
  },
  {
   "cell_type": "markdown",
   "metadata": {},
   "source": [
    "Splitting train and test"
   ]
  },
  {
   "cell_type": "code",
   "execution_count": 3,
   "metadata": {},
   "outputs": [
    {
     "name": "stdout",
     "output_type": "stream",
     "text": [
      "✅ All datasets split into train/test.\n",
      "📦 Saved to 'Data/encoded_split_data_simulated.pkl'\n"
     ]
    }
   ],
   "source": [
    "from sklearn.model_selection import train_test_split\n",
    "# Initialize dictionary to store splits\n",
    "encoded_split_data = {}\n",
    "\n",
    "# Process each dataset\n",
    "for name, data in dataset_dict.items():\n",
    "    X = data[\"X\"].copy()\n",
    "    y = data[\"y\"]\n",
    "\n",
    "    # Step 2: Train/Test/Val Split\n",
    "    X_train, X_test, y_train, y_test = train_test_split(X, y, test_size=0.2, random_state=42)\n",
    "\n",
    "    # Step 3: Store into dictionary\n",
    "    encoded_split_data[name] = {\n",
    "        \"X_train\": X_train,\n",
    "        \"X_test\": X_test,\n",
    "        \"y_train\": y_train,\n",
    "        \"y_test\": y_test\n",
    "    }\n",
    "\n",
    "print(\"✅ All datasets split into train/test.\")\n",
    "\n",
    "# Save to pickle\n",
    "os.makedirs(\"Data\", exist_ok=True)\n",
    "with open(\"Data/encoded_split_data_simulated.pkl\", \"wb\") as f:\n",
    "    pickle.dump(encoded_split_data, f)\n",
    "\n",
    "print(\"📦 Saved to 'Data/encoded_split_data_simulated.pkl'\")\n"
   ]
  }
 ],
 "metadata": {
  "kernelspec": {
   "display_name": "Python 3",
   "language": "python",
   "name": "python3"
  },
  "language_info": {
   "codemirror_mode": {
    "name": "ipython",
    "version": 3
   },
   "file_extension": ".py",
   "mimetype": "text/x-python",
   "name": "python",
   "nbconvert_exporter": "python",
   "pygments_lexer": "ipython3",
   "version": "3.13.1"
  }
 },
 "nbformat": 4,
 "nbformat_minor": 2
}
