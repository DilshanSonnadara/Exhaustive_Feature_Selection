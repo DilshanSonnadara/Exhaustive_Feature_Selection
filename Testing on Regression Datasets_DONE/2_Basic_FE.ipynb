{
 "cells": [
  {
   "cell_type": "markdown",
   "metadata": {},
   "source": [
    "Import the libraries"
   ]
  },
  {
   "cell_type": "code",
   "execution_count": 1,
   "metadata": {},
   "outputs": [],
   "source": [
    "import pickle\n",
    "import pandas as pd\n",
    "from sklearn.preprocessing import LabelEncoder\n",
    "from sklearn.model_selection import cross_validate, KFold\n",
    "from sklearn.preprocessing import MinMaxScaler\n",
    "import warnings\n",
    "import traceback"
   ]
  },
  {
   "cell_type": "markdown",
   "metadata": {},
   "source": [
    "Import the data"
   ]
  },
  {
   "cell_type": "code",
   "execution_count": 3,
   "metadata": {},
   "outputs": [],
   "source": [
    "# Paths to the pickle files\n",
    "independent_path = 'Data/Independent_Data_dictionary.pkl'\n",
    "dependent_path = 'Data/Dependent_Data_dictionary.pkl'\n",
    "\n",
    "# Load the data\n",
    "with open(independent_path, 'rb') as f:\n",
    "    Independent_Data = pickle.load(f)\n",
    "\n",
    "with open(dependent_path, 'rb') as f:\n",
    "    Dependent_Data = pickle.load(f)"
   ]
  },
  {
   "cell_type": "markdown",
   "metadata": {},
   "source": [
    "Encoding the dependent data"
   ]
  },
  {
   "cell_type": "code",
   "execution_count": 4,
   "metadata": {},
   "outputs": [],
   "source": [
    "Dependent_Data_Encoded = {}\n",
    "\n",
    "for name, df in Dependent_Data.items():\n",
    "    # Creating a copy of the dataframe to modify\n",
    "    encoded_df = df.copy()\n",
    "    \n",
    "    # Initialize the LabelEncoder\n",
    "    le = LabelEncoder()\n",
    "    \n",
    "    # Iterate through each column in the dataframe\n",
    "    for column in df.columns:\n",
    "        # Encode the column if it is of type 'object' or 'category'\n",
    "        if df[column].dtype == 'object' or df[column].dtype.name == 'category':\n",
    "            # Fit label encoder and return encoded labels\n",
    "            encoded_df[column] = le.fit_transform(df[column])\n",
    "    \n",
    "    # Add the encoded dataframe to the new dictionary\n",
    "    Dependent_Data_Encoded[name] = encoded_df\n",
    "\n",
    "# Now Dependent_Data_Encoded contains all the label-encoded dataframes\n"
   ]
  },
  {
   "cell_type": "markdown",
   "metadata": {},
   "source": [
    "Encode the independent data"
   ]
  },
  {
   "cell_type": "code",
   "execution_count": 5,
   "metadata": {},
   "outputs": [],
   "source": [
    "Independent_Data_Encoded = {}\n",
    "\n",
    "for key, df in Independent_Data.items():\n",
    "    df_encoded = df.copy()  # Create a copy of the dataframe to encode\n",
    "    for column in df_encoded.columns:\n",
    "        if df_encoded[column].dtype == 'object' or df_encoded[column].dtype.name == 'category':\n",
    "            le = LabelEncoder()\n",
    "            # Fit label encoder and return encoded labels\n",
    "            df_encoded[column] = le.fit_transform(df_encoded[column])\n",
    "    # Store the encoded dataframe in the new dictionary\n",
    "    Independent_Data_Encoded[key] = df_encoded\n",
    "\n",
    "# Now Independent_Data_Encoded contains all the encoded dataframes\n"
   ]
  },
  {
   "cell_type": "markdown",
   "metadata": {},
   "source": [
    "Apply Cross Validation"
   ]
  },
  {
   "cell_type": "code",
   "execution_count": 6,
   "metadata": {},
   "outputs": [],
   "source": [
    "# Initialize cross validator\n",
    "kf = KFold(n_splits=5, shuffle=True, random_state=42)\n",
    "\n",
    "#Initiate the model to normalize data\n",
    "scaler = MinMaxScaler()"
   ]
  },
  {
   "cell_type": "markdown",
   "metadata": {},
   "source": [
    "Keeping on the regression datasets"
   ]
  },
  {
   "cell_type": "code",
   "execution_count": 7,
   "metadata": {},
   "outputs": [],
   "source": [
    "regression_datasets = [\n",
    "    'fri_c3_1000_50', 'fri_c2_1000_25', 'fri_c4_500_50', 'fri_c4_1000_50', \n",
    "    'fri_c1_1000_25', 'fri_c1_500_50', 'fri_c3_1000_25', 'auto93', 'pyrim', \n",
    "    'autoPrice', 'boston', 'Concrete_Compressive_Strength', 'Auto_MPG', \n",
    "    'Forest Fires', 'Servo', 'Airfoil_Self_Noise', 'Wine_Quality', \n",
    "    'BodyFat', 'California_Housing', 'Quake'\n",
    "]\n",
    "\n",
    "Independent_Data_Encoded = {\n",
    "    k: v for k, v in Independent_Data_Encoded.items() if k in regression_datasets\n",
    "}\n",
    "\n",
    "Dependent_Data_Encoded = {\n",
    "    k: v for k, v in Dependent_Data_Encoded.items() if k in regression_datasets\n",
    "}\n"
   ]
  },
  {
   "cell_type": "markdown",
   "metadata": {},
   "source": [
    "Breaking and Saving the Data"
   ]
  },
  {
   "cell_type": "code",
   "execution_count": 8,
   "metadata": {},
   "outputs": [
    {
     "name": "stdout",
     "output_type": "stream",
     "text": [
      "Processing dataset: fri_c3_1000_50\n",
      "Processing dataset: fri_c2_1000_25\n",
      "Processing dataset: fri_c4_500_50\n",
      "Processing dataset: fri_c4_1000_50\n",
      "Processing dataset: fri_c1_1000_25\n",
      "Processing dataset: fri_c1_500_50\n",
      "Processing dataset: fri_c3_1000_25\n",
      "Processing dataset: auto93\n",
      "Processing dataset: pyrim\n",
      "Processing dataset: autoPrice\n",
      "Processing dataset: boston\n",
      "Processing dataset: Concrete_Compressive_Strength\n",
      "Processing dataset: Auto_MPG\n",
      "Processing dataset: Forest Fires\n",
      "Processing dataset: Servo\n",
      "Processing dataset: Airfoil_Self_Noise\n",
      "Processing dataset: Wine_Quality\n",
      "Processing dataset: BodyFat\n",
      "Processing dataset: California_Housing\n",
      "Processing dataset: Quake\n"
     ]
    }
   ],
   "source": [
    "# Suppress warnings\n",
    "warnings.filterwarnings(\"ignore\")\n",
    "\n",
    "all_data = {}\n",
    "# Processing datasets\n",
    "for dataset_name, X in Independent_Data_Encoded.items():\n",
    "    all_data[dataset_name] = {}\n",
    "    try:\n",
    "        fold_data = {}  # Dictionary to store fold data\n",
    "        times = []\n",
    "        print(f'Processing dataset: {dataset_name}')\n",
    "        y = Dependent_Data_Encoded[dataset_name]\n",
    "\n",
    "        fold_count = 1\n",
    "        # Manually handling cross-validation\n",
    "        for train_index, test_index in kf.split(X):\n",
    "            fold_key = f'fold{fold_count}'\n",
    "            fold_count += 1\n",
    "            X_train, X_test = X.iloc[train_index], X.iloc[test_index]\n",
    "            y_train, y_test = y.iloc[train_index], y.iloc[test_index]\n",
    "\n",
    "            # Apply normalization on each DataFrame\n",
    "            X_train_transformed = pd.DataFrame(scaler.fit_transform(X_train), columns=X_train.columns, index=X_train.index)\n",
    "            X_test_transformed = pd.DataFrame(scaler.transform(X_test), columns=X_test.columns, index=X_test.index)\n",
    "\n",
    "            fold_data[fold_key] = {\n",
    "                    'Training_Independent': X_train_transformed,\n",
    "                    'Training_Dependent': y_train,\n",
    "                    'Testing_Independent': X_test_transformed,\n",
    "                    'Testing_Dependent': y_test\n",
    "            }\n",
    "\n",
    "            all_data[dataset_name][fold_key] = {\n",
    "                'Training_Independent': X_train_transformed,\n",
    "                'Training_Dependent': y_train,\n",
    "                'Testing_Independent': X_test_transformed,\n",
    "                'Testing_Dependent': y_test\n",
    "            }\n",
    "    \n",
    "    except Exception as e:\n",
    "        print(f\"Error processing {dataset_name}: {e}\")\n",
    "        traceback.print_exc()  # This will print the traceback of the exception\n",
    "\n"
   ]
  },
  {
   "cell_type": "markdown",
   "metadata": {},
   "source": [
    "Saving the dataframe"
   ]
  },
  {
   "cell_type": "code",
   "execution_count": 10,
   "metadata": {},
   "outputs": [],
   "source": [
    "import pickle\n",
    "\n",
    "# Save all_data as Data.pkl\n",
    "with open('Data/Data.pkl', 'wb') as f:\n",
    "    pickle.dump(all_data, f)\n"
   ]
  },
  {
   "cell_type": "markdown",
   "metadata": {},
   "source": [
    "# Breaking Validation"
   ]
  },
  {
   "cell_type": "code",
   "execution_count": null,
   "metadata": {},
   "outputs": [],
   "source": [
    "import pickle\n",
    "from sklearn.model_selection import train_test_split\n",
    "\n",
    "# Load Data\n",
    "with open('Data/Data.pkl', 'rb') as f:\n",
    "    Data = pickle.load(f)\n",
    "\n",
    "# Process each dataset and fold\n",
    "for dataset_name, folds in Data.items():\n",
    "    for fold_name, fold_data in folds.items():\n",
    "        # Extract original splits\n",
    "        X_train = fold_data.pop('Training_Independent')\n",
    "        y_train = fold_data.pop('Training_Dependent')\n",
    "        X_test = fold_data.pop('Testing_Independent')\n",
    "        y_test = fold_data.pop('Testing_Dependent')\n",
    "\n",
    "        # Save full training and testing sets\n",
    "        fold_data['Training_Independent_Full'] = X_train\n",
    "        fold_data['Training_Dependent_Full'] = y_train\n",
    "        fold_data['Testing_Independent_Full'] = X_test\n",
    "        fold_data['Testing_Dependent_Full'] = y_test\n",
    "\n",
    "        # Split training into broken train/val\n",
    "        X_train_broken, X_val_broken, y_train_broken, y_val_broken = train_test_split(\n",
    "            X_train, y_train, test_size=0.2, random_state=42\n",
    "        )\n",
    "\n",
    "        # Save broken train/val sets\n",
    "        fold_data['Training_Independent_Broken'] = X_train_broken\n",
    "        fold_data['Training_Dependent_Broken'] = y_train_broken\n",
    "        fold_data['Validation_Independent_Broken'] = X_val_broken\n",
    "        fold_data['Validation_Dependent_Broken'] = y_val_broken\n",
    "\n",
    "\n"
   ]
  },
  {
   "cell_type": "code",
   "execution_count": 4,
   "metadata": {},
   "outputs": [],
   "source": [
    "# Optional: Save modified Data\n",
    "with open('Data/Validation_Data.pkl', 'wb') as f:\n",
    "    pickle.dump(Data, f)"
   ]
  }
 ],
 "metadata": {
  "kernelspec": {
   "display_name": "Python 3",
   "language": "python",
   "name": "python3"
  },
  "language_info": {
   "codemirror_mode": {
    "name": "ipython",
    "version": 3
   },
   "file_extension": ".py",
   "mimetype": "text/x-python",
   "name": "python",
   "nbconvert_exporter": "python",
   "pygments_lexer": "ipython3",
   "version": "3.13.1"
  }
 },
 "nbformat": 4,
 "nbformat_minor": 2
}
