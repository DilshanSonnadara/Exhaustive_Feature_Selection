{
 "cells": [
  {
   "cell_type": "markdown",
   "metadata": {},
   "source": [
    "# Fitting Models for Exhaustive Evaluations"
   ]
  },
  {
   "cell_type": "markdown",
   "metadata": {},
   "source": [
    "Import libraries"
   ]
  },
  {
   "cell_type": "code",
   "execution_count": 1,
   "metadata": {},
   "outputs": [],
   "source": [
    "import pickle\n",
    "import pandas as pd\n",
    "from sklearn.linear_model import LinearRegression\n",
    "from sklearn.neighbors import KNeighborsRegressor\n",
    "from sklearn.svm import SVR\n",
    "from sklearn.ensemble import (\n",
    "    RandomForestRegressor, AdaBoostRegressor, GradientBoostingRegressor,\n",
    "    ExtraTreesRegressor\n",
    ")\n",
    "from sklearn.neural_network import MLPRegressor\n",
    "from sklearn.tree import DecisionTreeRegressor\n",
    "import lightgbm as lgb\n",
    "import xgboost as xgb\n",
    "from sklearn.base import clone\n",
    "import time"
   ]
  },
  {
   "cell_type": "markdown",
   "metadata": {},
   "source": [
    "Fit models and get predictions"
   ]
  },
  {
   "cell_type": "code",
   "execution_count": null,
   "metadata": {},
   "outputs": [],
   "source": [
    "import warnings\n",
    "warnings.filterwarnings(\"ignore\")\n",
    "\n",
    "# Load feature rankings\n",
    "with open('Data/Feature_Ranking_By_MRMR_Reordered.pkl', 'rb') as f:\n",
    "    Feature_Ranking_By_MRMR = pickle.load(f)\n",
    "\n",
    "# Load dataset\n",
    "with open('Data/Validation_Data.pkl', 'rb') as f:\n",
    "    Data = pickle.load(f)\n",
    "\n",
    "# Define regression models\n",
    "regression_models = {\n",
    "    \"Linear Regression\": LinearRegression(),\n",
    "    \"KNN Regression\": KNeighborsRegressor(),\n",
    "    \"SVM Regression\": SVR(),\n",
    "    \"Random Forest Regression\": RandomForestRegressor(random_state=42),\n",
    "    \"AdaBoost Regression\": AdaBoostRegressor(random_state=42),\n",
    "    \"MLP Regression\": MLPRegressor(random_state=42),\n",
    "    \"Decision Tree Regression\": DecisionTreeRegressor(random_state=42),\n",
    "    \"Extremely Randomized Trees Regression\": ExtraTreesRegressor(random_state=42),\n",
    "    \"Gradient Boosting Regression\": GradientBoostingRegressor(random_state=42),\n",
    "    \"LightGBM Regression\": lgb.LGBMRegressor(random_state=42,verbose = -1),\n",
    "    \"XGBoost Regression\": xgb.XGBRegressor(random_state=42)\n",
    "}\n",
    "\n",
    "# Final results dictionary\n",
    "results = {}\n",
    "\n",
    "# Main loop\n",
    "for dataset_name in Feature_Ranking_By_MRMR:\n",
    "    print(dataset_name)\n",
    "    results[dataset_name] = {}\n",
    "\n",
    "    for fold_name in Feature_Ranking_By_MRMR[dataset_name]:\n",
    "        results[dataset_name][fold_name] = {}\n",
    "\n",
    "        # Get the fold data\n",
    "        fold_data = Data[dataset_name][fold_name]\n",
    "\n",
    "        # y targets\n",
    "        y_train_broken = fold_data['Training_Dependent_Broken']\n",
    "        y_val_broken = fold_data['Validation_Dependent_Broken']\n",
    "        y_test = fold_data['Testing_Dependent_Full']\n",
    "        y_train_full = fold_data['Training_Dependent_Full']\n",
    "\n",
    "        for k, top_k_features in Feature_Ranking_By_MRMR[dataset_name][fold_name].items():\n",
    "            results[dataset_name][fold_name][k] = {}\n",
    "\n",
    "            # Subset X by top-k features\n",
    "            X_train_broken = fold_data['Training_Independent_Broken'][top_k_features]\n",
    "            X_val_broken = fold_data['Validation_Independent_Broken'][top_k_features]\n",
    "            X_test = fold_data['Testing_Independent_Full'][top_k_features]\n",
    "            X_train_full = fold_data['Training_Independent_Full'][top_k_features]\n",
    "\n",
    "            for model_name, model in regression_models.items():\n",
    "                model_instance = clone(model)\n",
    "                time_start=time.time()\n",
    "                model_instance.fit(X_train_broken, y_train_broken)\n",
    "                time_end = time.time()\n",
    "                time_elapsed = time_end-time_start\n",
    "                # Make predictions\n",
    "                preds_train = model_instance.predict(X_train_broken)\n",
    "                preds_val = model_instance.predict(X_val_broken)\n",
    "                preds_test = model_instance.predict(X_test)\n",
    "\n",
    "                # Store predictions\n",
    "                results[dataset_name][fold_name][k][model_name] = {\n",
    "                    'y_train_broken': preds_train,\n",
    "                    'y_val_broken': preds_val,\n",
    "                    'y_test': preds_test,\n",
    "                    'time': time_elapsed\n",
    "                }\n"
   ]
  },
  {
   "cell_type": "code",
   "execution_count": 7,
   "metadata": {},
   "outputs": [],
   "source": [
    "import pickle\n",
    "\n",
    "# Save all_data as Data.pkl\n",
    "with open('Data/Model_Predictions_Exhaustive.pkl', 'wb') as f:\n",
    "    pickle.dump(results, f)\n"
   ]
  }
 ],
 "metadata": {
  "kernelspec": {
   "display_name": "Python 3",
   "language": "python",
   "name": "python3"
  },
  "language_info": {
   "codemirror_mode": {
    "name": "ipython",
    "version": 3
   },
   "file_extension": ".py",
   "mimetype": "text/x-python",
   "name": "python",
   "nbconvert_exporter": "python",
   "pygments_lexer": "ipython3",
   "version": "3.13.1"
  }
 },
 "nbformat": 4,
 "nbformat_minor": 2
}
