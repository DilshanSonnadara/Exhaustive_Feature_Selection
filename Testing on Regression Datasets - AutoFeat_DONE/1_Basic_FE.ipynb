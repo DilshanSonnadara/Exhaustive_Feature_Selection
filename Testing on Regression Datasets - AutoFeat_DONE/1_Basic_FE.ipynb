{
 "cells": [
  {
   "cell_type": "markdown",
   "metadata": {},
   "source": [
    "Import the data and get it to the required format"
   ]
  },
  {
   "cell_type": "code",
   "execution_count": 1,
   "metadata": {},
   "outputs": [
    {
     "name": "stdout",
     "output_type": "stream",
     "text": [
      "Saved combined data (X indices matched to y) to Data\\Data.pkl\n"
     ]
    }
   ],
   "source": [
    "import os\n",
    "import pickle\n",
    "import pandas as pd\n",
    "\n",
    "# Paths\n",
    "base_folder = \"Data\"\n",
    "autofeat_folder = os.path.join(base_folder, \"AutoFeat_Data\")\n",
    "\n",
    "# Final dictionary\n",
    "all_data = {}\n",
    "\n",
    "def align_X_to_y_index(X, y, where=\"train\"):\n",
    "    \"\"\"\n",
    "    Set X's index to y's index (no reordering).\n",
    "    If y doesn't have an index (e.g., it's a NumPy array), we leave X unchanged.\n",
    "    \"\"\"\n",
    "    y_idx = getattr(y, \"index\", None)\n",
    "    if y_idx is None:\n",
    "        # Can't align if y has no index\n",
    "        return X\n",
    "\n",
    "    # Handle DataFrame / Series\n",
    "    if isinstance(X, (pd.DataFrame, pd.Series)):\n",
    "        X = X.copy()\n",
    "        X.index = y_idx\n",
    "        return X\n",
    "\n",
    "    # If X is something else (e.g., numpy array), we can't set an index\n",
    "    # without converting it to a DataFrame (which might be undesired).\n",
    "    # So we leave it as-is.\n",
    "    return X\n",
    "\n",
    "# Loop through all pickle files in the folder\n",
    "for file_name in os.listdir(autofeat_folder):\n",
    "    if not file_name.endswith(\".pkl\"):\n",
    "        continue\n",
    "\n",
    "    file_path = os.path.join(autofeat_folder, file_name)\n",
    "\n",
    "    # Extract dataset name (everything before '_fold_data.pkl')\n",
    "    dataset_name = file_name.replace(\"_fold_data.pkl\", \"\")\n",
    "\n",
    "    # Load the pickle file\n",
    "    with open(file_path, \"rb\") as f:\n",
    "        dataset_dict = pickle.load(f)\n",
    "\n",
    "    # Initialize dataset entry\n",
    "    all_data[dataset_name] = {}\n",
    "\n",
    "    # Loop through folds\n",
    "    for fold_key, fold_data in dataset_dict.items():\n",
    "        X_train = fold_data['Training_Independent']\n",
    "        y_train = fold_data['Training_Dependent']\n",
    "        X_test  = fold_data['Testing_Independent']\n",
    "        y_test  = fold_data['Testing_Dependent']\n",
    "\n",
    "        # Align independent indices to dependent indices (order unchanged)\n",
    "        X_train = align_X_to_y_index(X_train, y_train, where=\"train\")\n",
    "        X_test  = align_X_to_y_index(X_test, y_test, where=\"test\")\n",
    "\n",
    "        all_data[dataset_name][fold_key] = {\n",
    "            'Training_Independent': X_train,\n",
    "            'Training_Dependent': y_train,\n",
    "            'Testing_Independent': X_test,\n",
    "            'Testing_Dependent': y_test\n",
    "        }\n",
    "\n",
    "# Save the combined dictionary\n",
    "os.makedirs(base_folder, exist_ok=True)\n",
    "output_path = os.path.join(base_folder, \"Data.pkl\")\n",
    "with open(output_path, \"wb\") as f:\n",
    "    pickle.dump(all_data, f, protocol=pickle.HIGHEST_PROTOCOL)\n",
    "\n",
    "print(f\"Saved combined data (X indices matched to y) to {output_path}\")\n"
   ]
  },
  {
   "cell_type": "markdown",
   "metadata": {},
   "source": [
    "Breaking Validation"
   ]
  },
  {
   "cell_type": "code",
   "execution_count": 3,
   "metadata": {},
   "outputs": [],
   "source": [
    "from sklearn.model_selection import train_test_split\n",
    "\n",
    "# Load Data\n",
    "with open('Data/Data.pkl', 'rb') as f:\n",
    "    Data = pickle.load(f)\n",
    "\n",
    "# Process each dataset and fold\n",
    "for dataset_name, folds in Data.items():\n",
    "    for fold_name, fold_data in folds.items():\n",
    "        # Extract original splits\n",
    "        X_train = fold_data.pop('Training_Independent')\n",
    "        y_train = fold_data.pop('Training_Dependent')\n",
    "        X_test = fold_data.pop('Testing_Independent')\n",
    "        y_test = fold_data.pop('Testing_Dependent')\n",
    "\n",
    "        # Save full training and testing sets\n",
    "        fold_data['Training_Independent_Full'] = X_train\n",
    "        fold_data['Training_Dependent_Full'] = y_train\n",
    "        fold_data['Testing_Independent_Full'] = X_test\n",
    "        fold_data['Testing_Dependent_Full'] = y_test\n",
    "\n",
    "        # Split training into broken train/val\n",
    "        X_train_broken, X_val_broken, y_train_broken, y_val_broken = train_test_split(\n",
    "            X_train, y_train, test_size=0.2, random_state=42\n",
    "        )\n",
    "\n",
    "        # Save broken train/val sets\n",
    "        fold_data['Training_Independent_Broken'] = X_train_broken\n",
    "        fold_data['Training_Dependent_Broken'] = y_train_broken\n",
    "        fold_data['Validation_Independent_Broken'] = X_val_broken\n",
    "        fold_data['Validation_Dependent_Broken'] = y_val_broken\n",
    "\n",
    "\n"
   ]
  },
  {
   "cell_type": "code",
   "execution_count": 4,
   "metadata": {},
   "outputs": [],
   "source": [
    "# Optional: Save modified Data\n",
    "with open('Data/Validation_Data.pkl', 'wb') as f:\n",
    "    pickle.dump(Data, f)"
   ]
  }
 ],
 "metadata": {
  "kernelspec": {
   "display_name": "Python 3",
   "language": "python",
   "name": "python3"
  },
  "language_info": {
   "codemirror_mode": {
    "name": "ipython",
    "version": 3
   },
   "file_extension": ".py",
   "mimetype": "text/x-python",
   "name": "python",
   "nbconvert_exporter": "python",
   "pygments_lexer": "ipython3",
   "version": "3.13.1"
  }
 },
 "nbformat": 4,
 "nbformat_minor": 2
}
